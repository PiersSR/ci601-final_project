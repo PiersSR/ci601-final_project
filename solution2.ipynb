{
  "nbformat": 4,
  "nbformat_minor": 0,
  "metadata": {
    "colab": {
      "name": "Copy of cnc_tests.ipynb",
      "provenance": [],
      "collapsed_sections": [],
      "mount_file_id": "1-fanxlb9i6_NfWxi-rTDWjTHTs212DbS",
      "authorship_tag": "ABX9TyPxMGtCJEGbWCnYI03j1xxX",
      "include_colab_link": true
    },
    "kernelspec": {
      "display_name": "Python 3",
      "name": "python3"
    },
    "language_info": {
      "name": "python"
    }
  },
  "cells": [
    {
      "cell_type": "markdown",
      "metadata": {
        "id": "view-in-github",
        "colab_type": "text"
      },
      "source": [
        "<a href=\"https://colab.research.google.com/github/PiersSR/ci601-final_project/blob/main/solution2.ipynb\" target=\"_parent\"><img src=\"https://colab.research.google.com/assets/colab-badge.svg\" alt=\"Open In Colab\"/></a>"
      ]
    },
    {
      "cell_type": "code",
      "metadata": {
        "colab": {
          "base_uri": "https://localhost:8080/"
        },
        "id": "vn9r09KAcj1m",
        "outputId": "1b6e2a9c-8207-4224-d0fe-153107bf8751"
      },
      "source": [
        "import numpy as np\n",
        "import pandas as pd\n",
        "import matplotlib.pyplot as plt\n",
        "from sklearn.preprocessing import LabelEncoder\n",
        "from sklearn.linear_model import LinearRegression\n",
        "from sklearn import svm\n",
        "from sklearn import tree\n",
        "from sklearn.naive_bayes import GaussianNB\n",
        "from sklearn.pipeline import make_pipeline\n",
        "from sklearn.preprocessing import StandardScaler\n",
        "from sklearn.neighbors import KNeighborsClassifier\n",
        "from sklearn.model_selection import train_test_split\n",
        "from sklearn.metrics import accuracy_score, f1_score, roc_auc_score\n",
        "from sklearn.model_selection import GridSearchCV\n",
        "pd.options.mode.chained_assignment = None  # default='warn'\n",
        "from google.colab import drive\n",
        "!pip install ipython-autotime\n",
        "%load_ext autotime\n",
        "\n",
        "drive.mount('/content/drive')\n",
        "TRAINING_DIR = \"/content/drive/MyDrive/cnc_tool_wear/train.csv\"\n",
        "training_data = pd.read_csv(TRAINING_DIR)\n",
        "\n",
        "# Replace null inspection values values with 'no'\n",
        "training_data['passed_visual_inspection'] = training_data['passed_visual_inspection'].fillna('no')\n",
        "\n",
        "frames = []\n",
        "for i in range(1,19):\n",
        "    experiment_number = '0' + str(i) if i < 10 else str(i)\n",
        "    frame = pd.read_csv(\"/content/drive/MyDrive/cnc_tool_wear/experiment_{}.csv\".format(experiment_number))\n",
        "\n",
        "    # Get the current applicable training data record\n",
        "    experiment_result_row = training_data[training_data['No'] == i]\n",
        "\n",
        "    # Append the applicable training values to the end of each record\n",
        "    frame['material'] = experiment_result_row.iloc[0]['material']\n",
        "    frame['Feedrate'] = experiment_result_row.iloc[0]['feedrate']\n",
        "    frame['Clamp Pressure'] = experiment_result_row.iloc[0]['clamp_pressure']\n",
        "\n",
        "    frame['Tool Condition'] = experiment_result_row.iloc[0]['tool_condition']\n",
        "    frame['Machining Finalised'] = experiment_result_row.iloc[0]['machining_finalized']\n",
        "    frame['Passed Visual Inspection'] = experiment_result_row.iloc[0]['passed_visual_inspection']\n",
        "\n",
        "    frames.append(frame)\n",
        "\n",
        "# Concatenate experiments into a single dataframe\n",
        "dataframe = pd.concat(frames, ignore_index=True)\n",
        "dataframe.drop(['Z1_CurrentFeedback','Z1_DCBusVoltage','Z1_OutputCurrent','Z1_OutputVoltage','S1_SystemInertia'],\n",
        "               axis=1, inplace=True)\n",
        "dataframe.replace({'Machining_Process': {'Starting':'Prep','end':'End'}}, inplace=True)\n",
        "\n",
        "# Setup a dataframe of features and ensure each record is in a suitable format\n",
        "feature_dataframe = dataframe.copy()\n",
        "feature_dataframe['Machining_Process'] = LabelEncoder().fit_transform(feature_dataframe['Machining_Process']).astype(np.int8)\n",
        "feature_dataframe['Tool Condition'] = LabelEncoder().fit_transform(feature_dataframe['Tool Condition']).astype(np.int8)\n",
        "feature_dataframe['Machining Finalised'] = LabelEncoder().fit_transform(feature_dataframe['Machining Finalised']).astype(np.int8)\n",
        "feature_dataframe['Passed Visual Inspection'] = LabelEncoder().fit_transform(feature_dataframe['Passed Visual Inspection']).astype(np.int8)\n",
        "feature_dataframe.drop(['material'], axis=1, inplace=True)\n",
        "\n",
        "# Initialise models\n",
        "SVC_model = svm.SVC()\n",
        "DT_model = tree.DecisionTreeClassifier()\n",
        "GNB_model = GaussianNB()\n",
        "KNN_model = KNeighborsClassifier()\n",
        "\n",
        "# Initialise parameters\n",
        "SVC_parameters = {'C':[0.1, 1, 10, 20, 50, 100], 'random_state': [8, 28, 38, 48, 58, 68, 78, 88]}\n",
        "DT_parameters = {'ccp_alpha': [0.0, 0.01, 0.02, 0.03, 0.04, 0.05, 0.06], 'splitter': ['best', 'random'], 'criterion': ['gini', 'entropy'],'random_state': [8, 28, 38, 48, 58, 68, 78, 88]}\n",
        "GNB_parameters = {'var_smoothing': [1e-2, 1e-3, 1e-5, 1e-7, 1e-9, 1e-11]}\n",
        "KNN_parameters = {'n_neighbors': [3, 4, 5, 6], 'algorithm': ['auto', 'brute', 'ball_tree'], 'weights': ['uniform', 'distance']}\n",
        "\n",
        "# Find optimal parameters for each model\n",
        "SVC = GridSearchCV(SVC_model, SVC_parameters)\n",
        "DT = GridSearchCV(DT_model, DT_parameters)\n",
        "GNB = GridSearchCV(GNB_model, GNB_parameters)\n",
        "KNN = GridSearchCV(KNN_model, KNN_parameters)"
      ],
      "execution_count": 3,
      "outputs": [
        {
          "output_type": "stream",
          "text": [
            "Collecting ipython-autotime\n",
            "  Downloading https://files.pythonhosted.org/packages/b4/c9/b413a24f759641bc27ef98c144b590023c8038dfb8a3f09e713e9dff12c1/ipython_autotime-0.3.1-py2.py3-none-any.whl\n",
            "Requirement already satisfied: ipython in /usr/local/lib/python3.7/dist-packages (from ipython-autotime) (5.5.0)\n",
            "Requirement already satisfied: traitlets>=4.2 in /usr/local/lib/python3.7/dist-packages (from ipython->ipython-autotime) (5.0.5)\n",
            "Requirement already satisfied: setuptools>=18.5 in /usr/local/lib/python3.7/dist-packages (from ipython->ipython-autotime) (56.1.0)\n",
            "Requirement already satisfied: decorator in /usr/local/lib/python3.7/dist-packages (from ipython->ipython-autotime) (4.4.2)\n",
            "Requirement already satisfied: pexpect; sys_platform != \"win32\" in /usr/local/lib/python3.7/dist-packages (from ipython->ipython-autotime) (4.8.0)\n",
            "Requirement already satisfied: pygments in /usr/local/lib/python3.7/dist-packages (from ipython->ipython-autotime) (2.6.1)\n",
            "Requirement already satisfied: simplegeneric>0.8 in /usr/local/lib/python3.7/dist-packages (from ipython->ipython-autotime) (0.8.1)\n",
            "Requirement already satisfied: prompt-toolkit<2.0.0,>=1.0.4 in /usr/local/lib/python3.7/dist-packages (from ipython->ipython-autotime) (1.0.18)\n",
            "Requirement already satisfied: pickleshare in /usr/local/lib/python3.7/dist-packages (from ipython->ipython-autotime) (0.7.5)\n",
            "Requirement already satisfied: ipython-genutils in /usr/local/lib/python3.7/dist-packages (from traitlets>=4.2->ipython->ipython-autotime) (0.2.0)\n",
            "Requirement already satisfied: ptyprocess>=0.5 in /usr/local/lib/python3.7/dist-packages (from pexpect; sys_platform != \"win32\"->ipython->ipython-autotime) (0.7.0)\n",
            "Requirement already satisfied: six>=1.9.0 in /usr/local/lib/python3.7/dist-packages (from prompt-toolkit<2.0.0,>=1.0.4->ipython->ipython-autotime) (1.15.0)\n",
            "Requirement already satisfied: wcwidth in /usr/local/lib/python3.7/dist-packages (from prompt-toolkit<2.0.0,>=1.0.4->ipython->ipython-autotime) (0.2.5)\n",
            "Installing collected packages: ipython-autotime\n",
            "Successfully installed ipython-autotime-0.3.1\n",
            "Mounted at /content/drive\n",
            "time: 21.8 s (started: 2021-05-20 15:43:14 +00:00)\n"
          ],
          "name": "stdout"
        }
      ]
    },
    {
      "cell_type": "code",
      "metadata": {
        "colab": {
          "base_uri": "https://localhost:8080/"
        },
        "id": "-NFNU5SVRa3y",
        "outputId": "e139b869-ab42-4083-aada-1e219cc33af3"
      },
      "source": [
        "condition_y = feature_dataframe['Tool Condition']\n",
        "condition_X = feature_dataframe.drop(['Tool Condition', 'Machining Finalised', 'Passed Visual Inspection'], axis=1)\n",
        "X_train, X_test, y_train, y_test = train_test_split(condition_X, condition_y, train_size=0.7, random_state=28, stratify=condition_y)\n",
        "\n",
        "DT.fit(X_train, y_train)\n",
        "DT_condition_prediction = DT.predict(X_test)\n",
        "print(accuracy_score(y_test, DT_condition_prediction))\n",
        "print(DT.best_estimator_)"
      ],
      "execution_count": 4,
      "outputs": [
        {
          "output_type": "stream",
          "text": [
            "0.9889269707355656\n",
            "DecisionTreeClassifier(ccp_alpha=0.0, class_weight=None, criterion='entropy',\n",
            "                       max_depth=None, max_features=None, max_leaf_nodes=None,\n",
            "                       min_impurity_decrease=0.0, min_impurity_split=None,\n",
            "                       min_samples_leaf=1, min_samples_split=2,\n",
            "                       min_weight_fraction_leaf=0.0, presort='deprecated',\n",
            "                       random_state=68, splitter='best')\n",
            "time: 2min 54s (started: 2021-05-20 15:43:35 +00:00)\n"
          ],
          "name": "stdout"
        }
      ]
    },
    {
      "cell_type": "code",
      "metadata": {
        "id": "FHVhH6qvKYa2",
        "colab": {
          "base_uri": "https://localhost:8080/"
        },
        "outputId": "5315d769-6b99-4772-d845-271b1e56e62c"
      },
      "source": [
        "KNN.fit(X_train, y_train)\n",
        "KNN_condition_prediction = KNN.predict(X_test)\n",
        "print(accuracy_score(y_test, KNN_condition_prediction))"
      ],
      "execution_count": 5,
      "outputs": [
        {
          "output_type": "stream",
          "text": [
            "0.7666754547851306\n",
            "time: 2min 25s (started: 2021-05-20 15:46:29 +00:00)\n"
          ],
          "name": "stdout"
        }
      ]
    },
    {
      "cell_type": "code",
      "metadata": {
        "colab": {
          "base_uri": "https://localhost:8080/"
        },
        "id": "BeKaVnaH11zW",
        "outputId": "cea27b2c-0a4b-4de2-93ef-67993d284175"
      },
      "source": [
        "print(KNN.best_estimator_)"
      ],
      "execution_count": 9,
      "outputs": [
        {
          "output_type": "stream",
          "text": [
            "KNeighborsClassifier(algorithm='auto', leaf_size=30, metric='minkowski',\n",
            "                     metric_params=None, n_jobs=None, n_neighbors=4, p=2,\n",
            "                     weights='distance')\n",
            "time: 1.32 ms (started: 2021-05-20 17:34:16 +00:00)\n"
          ],
          "name": "stdout"
        }
      ]
    },
    {
      "cell_type": "code",
      "metadata": {
        "colab": {
          "base_uri": "https://localhost:8080/"
        },
        "id": "WDDnHwCpTsWc",
        "outputId": "aaeef304-909d-405d-8dd4-6d3fac4f5328"
      },
      "source": [
        "GNB.fit(X_train, y_train)\n",
        "GNB_condition_prediction = GNB.predict(X_test)\n",
        "print(accuracy_score(y_test, GNB_condition_prediction))"
      ],
      "execution_count": 6,
      "outputs": [
        {
          "output_type": "stream",
          "text": [
            "0.5520696018982336\n",
            "time: 717 ms (started: 2021-05-20 15:48:55 +00:00)\n"
          ],
          "name": "stdout"
        }
      ]
    },
    {
      "cell_type": "code",
      "metadata": {
        "colab": {
          "base_uri": "https://localhost:8080/"
        },
        "id": "B7CAz-y016Zv",
        "outputId": "c9432a5b-d752-417d-a188-5c3b5bda4de6"
      },
      "source": [
        "print(GNB.best_estimator_)"
      ],
      "execution_count": 10,
      "outputs": [
        {
          "output_type": "stream",
          "text": [
            "GaussianNB(priors=None, var_smoothing=1e-09)\n",
            "time: 3.33 ms (started: 2021-05-20 17:34:26 +00:00)\n"
          ],
          "name": "stdout"
        }
      ]
    },
    {
      "cell_type": "code",
      "metadata": {
        "colab": {
          "base_uri": "https://localhost:8080/"
        },
        "id": "QU26d9v4VNaQ",
        "outputId": "804b5f99-60ea-4d87-a342-487686fc5cb2"
      },
      "source": [
        "SVC.fit(X_train, y_train)\n",
        "SVC_condition_prediction = SVC.predict(X_test)\n",
        "print(accuracy_score(y_test, SVC_condition_prediction))"
      ],
      "execution_count": 7,
      "outputs": [
        {
          "output_type": "stream",
          "text": [
            "0.6654363300817295\n",
            "time: 1h 40min 14s (started: 2021-05-20 15:48:55 +00:00)\n"
          ],
          "name": "stdout"
        }
      ]
    },
    {
      "cell_type": "code",
      "metadata": {
        "colab": {
          "base_uri": "https://localhost:8080/"
        },
        "id": "L3JntutGcXyZ",
        "outputId": "a112bf8f-b126-4698-c5bf-7b1faa77b2b2"
      },
      "source": [
        "print(SVC.best_estimator_)"
      ],
      "execution_count": 8,
      "outputs": [
        {
          "output_type": "stream",
          "text": [
            "SVC(C=100, break_ties=False, cache_size=200, class_weight=None, coef0=0.0,\n",
            "    decision_function_shape='ovr', degree=3, gamma='scale', kernel='rbf',\n",
            "    max_iter=-1, probability=False, random_state=8, shrinking=True, tol=0.001,\n",
            "    verbose=False)\n",
            "time: 2.94 ms (started: 2021-05-20 17:29:10 +00:00)\n"
          ],
          "name": "stdout"
        }
      ]
    }
  ]
}