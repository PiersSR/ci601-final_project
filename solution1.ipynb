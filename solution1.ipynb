{
  "nbformat": 4,
  "nbformat_minor": 0,
  "metadata": {
    "colab": {
      "name": "cnc_tests.ipynb",
      "provenance": [],
      "collapsed_sections": [],
      "mount_file_id": "1-fanxlb9i6_NfWxi-rTDWjTHTs212DbS",
      "authorship_tag": "ABX9TyM9XfhS20Ft6aQ1DSs/kS1b",
      "include_colab_link": true
    },
    "kernelspec": {
      "display_name": "Python 3",
      "name": "python3"
    },
    "language_info": {
      "name": "python"
    }
  },
  "cells": [
    {
      "cell_type": "markdown",
      "metadata": {
        "id": "view-in-github",
        "colab_type": "text"
      },
      "source": [
        "<a href=\"https://colab.research.google.com/github/PiersSR/ci601-final_project/blob/main/solution1.ipynb\" target=\"_parent\"><img src=\"https://colab.research.google.com/assets/colab-badge.svg\" alt=\"Open In Colab\"/></a>"
      ]
    },
    {
      "cell_type": "code",
      "metadata": {
        "colab": {
          "base_uri": "https://localhost:8080/"
        },
        "id": "vn9r09KAcj1m",
        "outputId": "0abdb0a6-161c-4652-c5fc-982655403395"
      },
      "source": [
        "import numpy as np\n",
        "import pandas as pd\n",
        "import matplotlib.pyplot as plt\n",
        "from sklearn.preprocessing import LabelEncoder\n",
        "from sklearn.linear_model import LinearRegression\n",
        "from sklearn import svm\n",
        "from sklearn import tree\n",
        "from sklearn.naive_bayes import GaussianNB\n",
        "from sklearn.pipeline import make_pipeline\n",
        "from sklearn.preprocessing import StandardScaler\n",
        "from sklearn.neighbors import KNeighborsClassifier\n",
        "from sklearn.model_selection import train_test_split\n",
        "from sklearn.metrics import accuracy_score, f1_score, roc_auc_score\n",
        "from sklearn.model_selection import GridSearchCV\n",
        "pd.options.mode.chained_assignment = None  # default='warn'\n",
        "from google.colab import drive\n",
        "!pip install ipython-autotime\n",
        "%load_ext autotime\n",
        "\n",
        "drive.mount('/content/drive')\n",
        "TRAINING_DIR = \"/content/drive/MyDrive/cnc_tool_wear/train.csv\"\n",
        "training_data = pd.read_csv(TRAINING_DIR)\n",
        "\n",
        "# Transform string values into numeric values\n",
        "tool_encoder = LabelEncoder()\n",
        "tool_encoder.fit(training_data['tool_condition'])\n",
        "training_data['Encoded Tool Condition'] = tool_encoder.transform(training_data['tool_condition'])\n",
        "\n",
        "feedrate_encoder = LabelEncoder()\n",
        "feedrate_encoder.fit(training_data['feedrate'])\n",
        "training_data['Encoded Feedrate'] = feedrate_encoder.transform(training_data['feedrate'])\n",
        "\n",
        "pressure_encoder = LabelEncoder()\n",
        "pressure_encoder.fit(training_data['clamp_pressure'])\n",
        "training_data['Encoded Clamp Pressure'] = pressure_encoder.transform(training_data['clamp_pressure'])\n",
        "\n",
        "training_data.drop(['passed_visual_inspection','tool_condition','material','machining_finalized'], axis=1, inplace=True)\n",
        "\n",
        "#Concatenate experiments into a single dataframe\n",
        "frames = []\n",
        "for i in range(1,19):\n",
        "    ex_num = '0' + str(i) if i < 10 else str(i)\n",
        "    frame = pd.read_csv(\"/content/drive/MyDrive/cnc_tool_wear/experiment_{}.csv\".format(ex_num))\n",
        "\n",
        "    ex_result_row = training_data[training_data['No'] == i]\n",
        "\n",
        "    machining_encoder = LabelEncoder()\n",
        "    machining_encoder.fit(frame['Machining_Process'])\n",
        "    frame['Encoded Machining Process'] = machining_encoder.transform(frame['Machining_Process'])\n",
        "\n",
        "    frame['Encoded Feedrate'] = ex_result_row.iloc[0]['Encoded Feedrate']\n",
        "    frame['Encoded Clamp Pressure'] = ex_result_row.iloc[0]['Encoded Clamp Pressure']\n",
        "    frames.append(frame)\n",
        "\n",
        "dataframe = pd.concat(frames, ignore_index=True)\n",
        "dataframe.drop(['Z1_CurrentFeedback','Z1_DCBusVoltage','Z1_OutputCurrent','Z1_OutputVoltage','S1_SystemInertia'],\n",
        "               axis=1, inplace=True)\n",
        "\n",
        "correlations = dataframe.corr()\n",
        "\n",
        "#Take the relevant feedrate features and create a new dataframe to contain them\n",
        "correlated_feedrate = abs(correlations[\"Encoded Feedrate\"])\n",
        "relevant_feedrate_features = correlated_feedrate[correlated_feedrate > 0.3]\n",
        "#print(relevant_feedrate_features)\n",
        "\n",
        "feedrate_dataframe = dataframe[['X1_ActualPosition', 'X1_CommandPosition', 'Y1_ActualPosition', 'Y1_CommandPosition',\n",
        "                  'Z1_ActualPosition', 'Z1_CommandPosition', 'S1_ActualVelocity', 'S1_CommandVelocity',\n",
        "                  'S1_CurrentFeedback', 'S1_DCBusVoltage', 'S1_OutputVoltage', 'S1_OutputPower', 'M1_sequence_number',\n",
        "                  'M1_CURRENT_FEEDRATE', 'Encoded Feedrate']]\n",
        "\n",
        "#Take the relevant clamp pressure features and create a new dataframe to contain them\n",
        "correlated_clamp_pressure = abs(correlations[\"Encoded Clamp Pressure\"])\n",
        "relevant_pressure_features = correlated_clamp_pressure[correlated_clamp_pressure > 0.1]\n",
        "#print(relevant_pressure_features)\n",
        "\n",
        "pressure_dataframe = dataframe[['X1_ActualPosition', 'X1_CommandPosition', 'X1_OutputCurrent', 'Y1_ActualPosition',\n",
        "                  'Y1_CommandPosition', 'Y1_OutputCurrent', 'Z1_ActualPosition', 'Z1_CommandPosition',\n",
        "                  'S1_ActualVelocity', 'S1_CommandVelocity', 'S1_OutputVoltage', 'M1_CURRENT_FEEDRATE',\n",
        "                  'Encoded Clamp Pressure']]\n",
        "\n",
        "# Create np arrays and split train/test sets\n",
        "feedrate_y = feedrate_dataframe[\"Encoded Feedrate\"]\n",
        "feedrate_X = feedrate_dataframe.drop([\"Encoded Feedrate\"], axis=1)\n",
        "\n",
        "feedrate_X_train, feedrate_X_test, feedrate_y_train, feedrate_y_test = train_test_split(feedrate_X, feedrate_y, \n",
        "                                                                                        train_size=0.8, random_state=28)\n",
        "\n",
        "pressure_y = pressure_dataframe[\"Encoded Clamp Pressure\"]\n",
        "pressure_X = pressure_dataframe.drop([\"Encoded Clamp Pressure\"], axis=1)\n",
        "\n",
        "pressure_X_train, pressure_X_test, pressure_y_train, pressure_y_test = train_test_split(pressure_X, pressure_y,\n",
        "                                                                                        train_size=0.8, random_state=28)\n",
        "\n",
        "SVC = svm.SVC()\n",
        "DT = tree.DecisionTreeClassifier()\n",
        "GNB = GaussianNB()\n",
        "KNN = KNeighborsClassifier()\n",
        "\n",
        "SVC_parameters = {'C':[0.1, 1, 10, 20, 50, 100], 'random_state': [8, 28, 38, 48, 58, 68, 78, 88]}\n",
        "DT_parameters = {'ccp_alpha': [0.0, 0.01, 0.02, 0.03, 0.04, 0.05, 0.06], 'splitter': ['best', 'random'], 'criterion': ['gini', 'entropy'],'random_state': [8, 28, 38, 48, 58, 68, 78, 88]}\n",
        "GNB_parameters = {'var_smoothing': [1e-2, 1e-3, 1e-5, 1e-7, 1e-9, 1e-11]}\n",
        "KNN_parameters = {'n_neighbors': [3, 4, 5, 6], 'algorithm': ['auto', 'brute', 'ball_tree'], 'weights': ['uniform', 'distance']}\n",
        "\n",
        "SVC_feedrate = GridSearchCV(SVC, SVC_parameters)\n",
        "DT_feedrate = GridSearchCV(DT, DT_parameters)\n",
        "GNB_feedrate = GridSearchCV(GNB, GNB_parameters)\n",
        "KNN_feedrate = GridSearchCV(KNN, KNN_parameters)\n",
        "\n",
        "SVC_pressure = GridSearchCV(SVC, SVC_parameters)\n",
        "DT_pressure = GridSearchCV(DT, DT_parameters)\n",
        "GNB_pressure = GridSearchCV(GNB, GNB_parameters)\n",
        "KNN_pressure = GridSearchCV(KNN, KNN_parameters)\n",
        "\n",
        "SVC_condition = GridSearchCV(SVC, SVC_parameters)\n",
        "DT_condition = GridSearchCV(DT, DT_parameters)\n",
        "GNB_condition = GridSearchCV(GNB, GNB_parameters)\n",
        "KNN_condition = GridSearchCV(KNN, KNN_parameters)"
      ],
      "execution_count": 1,
      "outputs": [
        {
          "output_type": "stream",
          "text": [
            "Collecting ipython-autotime\n",
            "  Downloading https://files.pythonhosted.org/packages/b4/c9/b413a24f759641bc27ef98c144b590023c8038dfb8a3f09e713e9dff12c1/ipython_autotime-0.3.1-py2.py3-none-any.whl\n",
            "Requirement already satisfied: ipython in /usr/local/lib/python3.7/dist-packages (from ipython-autotime) (5.5.0)\n",
            "Requirement already satisfied: pygments in /usr/local/lib/python3.7/dist-packages (from ipython->ipython-autotime) (2.6.1)\n",
            "Requirement already satisfied: decorator in /usr/local/lib/python3.7/dist-packages (from ipython->ipython-autotime) (4.4.2)\n",
            "Requirement already satisfied: pickleshare in /usr/local/lib/python3.7/dist-packages (from ipython->ipython-autotime) (0.7.5)\n",
            "Requirement already satisfied: traitlets>=4.2 in /usr/local/lib/python3.7/dist-packages (from ipython->ipython-autotime) (5.0.5)\n",
            "Requirement already satisfied: simplegeneric>0.8 in /usr/local/lib/python3.7/dist-packages (from ipython->ipython-autotime) (0.8.1)\n",
            "Requirement already satisfied: pexpect; sys_platform != \"win32\" in /usr/local/lib/python3.7/dist-packages (from ipython->ipython-autotime) (4.8.0)\n",
            "Requirement already satisfied: setuptools>=18.5 in /usr/local/lib/python3.7/dist-packages (from ipython->ipython-autotime) (56.1.0)\n",
            "Requirement already satisfied: prompt-toolkit<2.0.0,>=1.0.4 in /usr/local/lib/python3.7/dist-packages (from ipython->ipython-autotime) (1.0.18)\n",
            "Requirement already satisfied: ipython-genutils in /usr/local/lib/python3.7/dist-packages (from traitlets>=4.2->ipython->ipython-autotime) (0.2.0)\n",
            "Requirement already satisfied: ptyprocess>=0.5 in /usr/local/lib/python3.7/dist-packages (from pexpect; sys_platform != \"win32\"->ipython->ipython-autotime) (0.7.0)\n",
            "Requirement already satisfied: six>=1.9.0 in /usr/local/lib/python3.7/dist-packages (from prompt-toolkit<2.0.0,>=1.0.4->ipython->ipython-autotime) (1.15.0)\n",
            "Requirement already satisfied: wcwidth in /usr/local/lib/python3.7/dist-packages (from prompt-toolkit<2.0.0,>=1.0.4->ipython->ipython-autotime) (0.2.5)\n",
            "Installing collected packages: ipython-autotime\n",
            "Successfully installed ipython-autotime-0.3.1\n",
            "Drive already mounted at /content/drive; to attempt to forcibly remount, call drive.mount(\"/content/drive\", force_remount=True).\n",
            "time: 12.4 s (started: 2021-05-20 11:29:44 +00:00)\n"
          ],
          "name": "stdout"
        }
      ]
    },
    {
      "cell_type": "code",
      "metadata": {
        "id": "UD91zP7TKuuV",
        "colab": {
          "base_uri": "https://localhost:8080/"
        },
        "outputId": "f93ae4ce-1d6c-4ad6-b10f-fc69a9c546a1"
      },
      "source": [
        "#SVC_feedrate.fit(feedrate_X_train, feedrate_y_train)\n",
        "#SVC_feedrate_prediction = SVC_feedrate.predict(feedrate_X_test)\n",
        "#SVC_feedrate_estimator = SVC_feedrate.best_estimator_\n",
        "#SVC_feedrate_accuracy = (accuracy_score(feedrate_y_test, SVC_feedrate_prediction))"
      ],
      "execution_count": 2,
      "outputs": [
        {
          "output_type": "stream",
          "text": [
            "time: 2.1 ms (started: 2021-05-20 11:29:57 +00:00)\n"
          ],
          "name": "stdout"
        }
      ]
    },
    {
      "cell_type": "code",
      "metadata": {
        "id": "N1Uk-50AKxva",
        "colab": {
          "base_uri": "https://localhost:8080/"
        },
        "outputId": "91138c77-6ad7-45c2-b6d7-680b2fa19f84"
      },
      "source": [
        "DT_feedrate.fit(feedrate_X_train, feedrate_y_train)\n",
        "DT_feedrate_prediction = DT_feedrate.predict(feedrate_X_test)\n",
        "DT_feedrate_estimator = DT_feedrate.best_estimator_\n",
        "DT_feedrate_accuracy = accuracy_score(feedrate_y_test, DT_feedrate_prediction)"
      ],
      "execution_count": 3,
      "outputs": [
        {
          "output_type": "stream",
          "text": [
            "time: 43.9 s (started: 2021-05-20 11:29:57 +00:00)\n"
          ],
          "name": "stdout"
        }
      ]
    },
    {
      "cell_type": "code",
      "metadata": {
        "id": "VC8imLisyRBc",
        "colab": {
          "base_uri": "https://localhost:8080/"
        },
        "outputId": "bbce2782-dcdb-4842-cec9-671437ac9ff6"
      },
      "source": [
        "GNB_feedrate.fit(feedrate_X_train, feedrate_y_train)\n",
        "GNB_feedrate_prediction = GNB_feedrate.predict(feedrate_X_test)\n",
        "GNB_feedrate_estimator = GNB_feedrate.best_estimator_\n",
        "GNB_feedrate_accuracy = accuracy_score(feedrate_y_test, GNB_feedrate_prediction)"
      ],
      "execution_count": 4,
      "outputs": [
        {
          "output_type": "stream",
          "text": [
            "time: 349 ms (started: 2021-05-20 11:30:41 +00:00)\n"
          ],
          "name": "stdout"
        }
      ]
    },
    {
      "cell_type": "code",
      "metadata": {
        "id": "coux1QEu47y7",
        "colab": {
          "base_uri": "https://localhost:8080/"
        },
        "outputId": "fd32b093-cf9e-4e1c-ab41-703bf33e684d"
      },
      "source": [
        "KNN_feedrate.fit(feedrate_X_train, feedrate_y_train)\n",
        "KNN_feedrate_prediction = KNN_feedrate.predict(feedrate_X_test)\n",
        "KNN_feedrate_estimator = KNN_feedrate.best_estimator_\n",
        "KNN_feedrate_accuracy = accuracy_score(feedrate_y_test, KNN_feedrate_prediction)"
      ],
      "execution_count": 5,
      "outputs": [
        {
          "output_type": "stream",
          "text": [
            "time: 1min 11s (started: 2021-05-20 11:30:41 +00:00)\n"
          ],
          "name": "stdout"
        }
      ]
    },
    {
      "cell_type": "code",
      "metadata": {
        "id": "Uhii68JssM-c",
        "colab": {
          "base_uri": "https://localhost:8080/"
        },
        "outputId": "3cf9e3b6-e1c6-4e85-976a-8cb09c0b7c54"
      },
      "source": [
        "#SVC_pressure.fit(pressure_X_train, pressure_y_train)\n",
        "#SVC_pressure_prediction = SVC_pressure.predict(pressure_X_test)\n",
        "#SVC_pressure_estimator = SVC_pressure.best_estimator_\n",
        "#SVC_pressure_accuracy = accuracy_score(pressure_y_test, SVC_pressure_prediction)"
      ],
      "execution_count": 6,
      "outputs": [
        {
          "output_type": "stream",
          "text": [
            "time: 1.6 ms (started: 2021-05-20 11:31:52 +00:00)\n"
          ],
          "name": "stdout"
        }
      ]
    },
    {
      "cell_type": "code",
      "metadata": {
        "id": "3c26MmizuXFF",
        "colab": {
          "base_uri": "https://localhost:8080/"
        },
        "outputId": "468b0613-67bc-494d-da03-5da05f418575"
      },
      "source": [
        "DT_pressure.fit(pressure_X_train, pressure_y_train)\n",
        "DT_pressure_prediction = DT_pressure.predict(pressure_X_test)\n",
        "DT_pressure_estimator = DT_pressure.best_estimator_\n",
        "DT_pressure_accuracy = accuracy_score(pressure_y_test, DT_pressure_prediction)"
      ],
      "execution_count": 7,
      "outputs": [
        {
          "output_type": "stream",
          "text": [
            "time: 2min 5s (started: 2021-05-20 11:31:52 +00:00)\n"
          ],
          "name": "stdout"
        }
      ]
    },
    {
      "cell_type": "code",
      "metadata": {
        "id": "ei0r1pgCubru",
        "colab": {
          "base_uri": "https://localhost:8080/"
        },
        "outputId": "74295e9a-56ee-437e-feb8-3ebfc3f6ee8a"
      },
      "source": [
        "GNB_pressure.fit(pressure_X_train, pressure_y_train)\n",
        "GNB_pressure_prediction = GNB_pressure.predict(pressure_X_test)\n",
        "GNB_pressure_estimator = GNB_pressure.best_estimator_\n",
        "GNB_pressure_accuracy = accuracy_score(pressure_y_test, GNB_pressure_prediction)"
      ],
      "execution_count": 8,
      "outputs": [
        {
          "output_type": "stream",
          "text": [
            "time: 322 ms (started: 2021-05-20 11:33:58 +00:00)\n"
          ],
          "name": "stdout"
        }
      ]
    },
    {
      "cell_type": "code",
      "metadata": {
        "id": "VUBxpnNbukZ-",
        "colab": {
          "base_uri": "https://localhost:8080/"
        },
        "outputId": "d14337ba-672a-49b8-813a-484351a57d85"
      },
      "source": [
        "KNN_pressure.fit(pressure_X_train, pressure_y_train)\n",
        "KNN_pressure_prediction = KNN_pressure.predict(pressure_X_test)\n",
        "KNN_pressure_estimator = KNN_pressure.best_estimator_\n",
        "KNN_pressure_accuracy = accuracy_score(pressure_y_test, KNN_pressure_prediction)"
      ],
      "execution_count": 9,
      "outputs": [
        {
          "output_type": "stream",
          "text": [
            "time: 1min 6s (started: 2021-05-20 11:33:58 +00:00)\n"
          ],
          "name": "stdout"
        }
      ]
    },
    {
      "cell_type": "code",
      "metadata": {
        "id": "6TsxI3hx3oXW",
        "colab": {
          "base_uri": "https://localhost:8080/"
        },
        "outputId": "a9a4a074-a41f-49bc-db5f-d76410619c9c"
      },
      "source": [
        "# Initialise dataframe/features/targets to predict tool condition using feedrate and clamp pressure\n",
        "condition_dataframe = pd.DataFrame(columns=['Feedrate', 'Clamp Pressure'])\n",
        "condition_dataframe['Feedrate'] = DT_feedrate_prediction.tolist()\n",
        "condition_dataframe['Clamp Pressure'] = KNN_pressure_prediction.tolist()\n",
        "\n",
        "condition_y = training_data[\"Encoded Tool Condition\"]\n",
        "condition_X = training_data[[\"Encoded Feedrate\", \"Encoded Clamp Pressure\"]]\n",
        "\n",
        "condition_X_train, condition_X_test, condition_y_train, condition_y_test = train_test_split(condition_X, condition_y, test_size=0.3, random_state=28)"
      ],
      "execution_count": 10,
      "outputs": [
        {
          "output_type": "stream",
          "text": [
            "time: 14.4 ms (started: 2021-05-20 11:35:05 +00:00)\n"
          ],
          "name": "stdout"
        }
      ]
    },
    {
      "cell_type": "code",
      "metadata": {
        "id": "kDhNyEfl5gPo"
      },
      "source": [
        "#SVC_condition.fit(condition_X_train, condition_y_train)\n",
        "#SVC_condition_prediction = SVC_condition.predict(condition_X_test)\n",
        "#SVC_condition_estimator = SVC_condition.best_estimator_\n",
        "#SVC_condition_accuracy = accuracy_score(condition_y_test, SVC_condition_prediction)"
      ],
      "execution_count": null,
      "outputs": []
    },
    {
      "cell_type": "code",
      "metadata": {
        "id": "ihc35OYeJJzy",
        "colab": {
          "base_uri": "https://localhost:8080/"
        },
        "outputId": "720e8ce8-e83a-41bd-cbca-f7a14106d0c7"
      },
      "source": [
        "DT_condition.fit(condition_X_train, condition_y_train)\n",
        "DT_condition_prediction = DT_condition.predict(condition_X_test)\n",
        "DT_condition_estimator = DT_condition.best_estimator_\n",
        "DT_condition_accuracy = accuracy_score(condition_y_test, DT_condition_prediction)"
      ],
      "execution_count": 16,
      "outputs": [
        {
          "output_type": "stream",
          "text": [
            "time: 3.08 s (started: 2021-05-20 11:35:44 +00:00)\n"
          ],
          "name": "stdout"
        }
      ]
    },
    {
      "cell_type": "code",
      "metadata": {
        "id": "-3bp5esOeGgA",
        "colab": {
          "base_uri": "https://localhost:8080/"
        },
        "outputId": "96db6941-b606-4c07-df93-d774fa6d7ef5"
      },
      "source": [
        "GNB_condition.fit(condition_X_train, condition_y_train)\n",
        "GNB_condition_prediction = GNB_condition.predict(condition_X_test)\n",
        "GNB_condition_estimator = GNB_condition.best_estimator_\n",
        "GNB_condition_accuracy = accuracy_score(condition_y_test, GNB_condition_prediction)"
      ],
      "execution_count": 17,
      "outputs": [
        {
          "output_type": "stream",
          "text": [
            "time: 85.4 ms (started: 2021-05-20 11:35:47 +00:00)\n"
          ],
          "name": "stdout"
        }
      ]
    },
    {
      "cell_type": "code",
      "metadata": {
        "id": "gGN8dvDdeXzg",
        "colab": {
          "base_uri": "https://localhost:8080/"
        },
        "outputId": "e6a8c751-513d-4c8f-e7e7-8f4c0848353b"
      },
      "source": [
        "KNN_condition.fit(condition_X_train, condition_y_train)\n",
        "KNN_condition_prediction = KNN_condition.predict(condition_X_test)\n",
        "KNN_condition_estimator = KNN_condition.best_estimator_\n",
        "KNN_condition_accuracy = accuracy_score(condition_y_test, KNN_condition_prediction)"
      ],
      "execution_count": 18,
      "outputs": [
        {
          "output_type": "stream",
          "text": [
            "time: 379 ms (started: 2021-05-20 11:35:47 +00:00)\n"
          ],
          "name": "stdout"
        }
      ]
    },
    {
      "cell_type": "code",
      "metadata": {
        "id": "116f77zLeod0",
        "colab": {
          "base_uri": "https://localhost:8080/"
        },
        "outputId": "8c968115-13f3-448d-cad7-d9ccdba2d201"
      },
      "source": [
        "condition_prediction = KNN_condition.predict(condition_dataframe)\n",
        "\n",
        "result = pd.DataFrame({'Feedrate': condition_dataframe['Feedrate'], 'Clamp Pressure': condition_dataframe['Clamp Pressure'], 'Tool Condition': condition_prediction})\n",
        "\n",
        "condition_dataframe['Feedrate'] = condition_dataframe['Feedrate'].apply(np.sign).replace({0.0: 3, 0.1: 6, 0.2: 12, 0.3: 15, 0.4:20})\n",
        "condition_dataframe['Clamp Pressure'] = condition_dataframe['Clamp Pressure'].apply(np.sign).replace({0.0: 2.5, 0.1: 3.0, 0.2: 4.0})\n",
        "\n",
        "condition_prediction = condition_prediction.astype(str)\n",
        "\n",
        "for i in range(len(condition_prediction)):\n",
        "    if (condition_prediction[i]=='0'):\n",
        "        condition_prediction[i]='unworn'\n",
        "    elif (condition_prediction[i]=='1'):\n",
        "        condition_prediction[i]='worn'\n",
        "\n",
        "result = pd.DataFrame({'Feedrate': condition_dataframe['Feedrate'], 'Clamp Pressure': condition_dataframe['Clamp Pressure'], 'Tool Condition': condition_prediction})\n",
        "print(result)\n",
        "\n",
        "#print('=============== SVC Results ===============')\n",
        "#print('SVC Feedrate Parameters: %(estimator)s \\nSVC Feedrate Accuracy: %(accuracy)s \\n' % {\"estimator\": SVC_feedrate_estimator, \"accuracy\": SVC_feedrate_accuracy})\n",
        "#print('SVC Pressure Parameters: %(estimator)s \\nSVC Pressure Accuracy: %(accuracy)s \\n' % {\"estimator\": SVC_pressure_estimator, \"accuracy\":SVC_pressure_accuracy})\n",
        "#print('SVC Condition Parameters: %(estimator)s \\nSVC Condition Accuracy: %(accuracy)s \\n' % {\"estimator\": SVC_condition_estimator, \"accuracy\":SVC_condition_accuracy})\n",
        "\n",
        "print('=============== Decision Tree Results ===============')\n",
        "print('DT Feedrate Parameters: %(estimator)s \\nDT Feedrate Accuracy: %(accuracy)s \\n' % {\"estimator\": DT_feedrate_estimator, \"accuracy\": DT_feedrate_accuracy})\n",
        "print('DT Pressure Parameters: %(estimator)s \\nDT Pressure Accuracy: %(accuracy)s \\n' % {\"estimator\": DT_pressure_estimator, \"accuracy\":DT_pressure_accuracy})\n",
        "print('DT Condition Parameters: %(estimator)s \\nDT Condition Accuracy: %(accuracy)s \\n' % {\"estimator\": DT_condition_estimator, \"accuracy\":DT_condition_accuracy})\n",
        "\n",
        "print('=============== Gaussian Naive-Bayes Restuls ===============')\n",
        "print('GNB Feedrate Parameters: %(estimator)s \\nGNB Feedrate Accuracy: %(accuracy)s \\n' % {\"estimator\": GNB_feedrate_estimator, \"accuracy\": GNB_feedrate_accuracy})\n",
        "print('GNB Pressure Parameters: %(estimator)s \\nGNB Pressure Accuracy: %(accuracy)s \\n' % {\"estimator\": GNB_pressure_estimator, \"accuracy\": GNB_pressure_accuracy})\n",
        "print('GNB Condition Parameters: %(estimator)s \\nGNB Condition Accuracy: %(accuracy)s \\n' % {\"estimator\": GNB_condition_estimator, \"accuracy\": GNB_condition_accuracy})\n",
        "\n",
        "print('=============== K-Nearest Neigbor Results ===============')\n",
        "print('KNN Feedrate Parameters: %(estimator)s \\nKNN Feedrate Accuracy: %(accuracy)s \\n' % {\"estimator\": KNN_feedrate_estimator, \"accuracy\": KNN_feedrate_accuracy})\n",
        "print('KNN Pressure Parameters: %(estimator)s \\nKNN Pressure Accuracy: %(accuracy)s \\n' % {\"estimator\": KNN_pressure_estimator, \"accuracy\": KNN_pressure_accuracy})\n",
        "print('KNN Condition Parameters: %(estimator)s \\nKNN Condition Accuracy: %(accuracy)s \\n' % {\"estimator\": KNN_condition_estimator, \"accuracy\": KNN_condition_accuracy})"
      ],
      "execution_count": 20,
      "outputs": [
        {
          "output_type": "stream",
          "text": [
            "      Feedrate  Clamp Pressure Tool Condition\n",
            "0          1.0             1.0           worn\n",
            "1          1.0             1.0         unworn\n",
            "2          1.0             1.0         unworn\n",
            "3          1.0             1.0         unworn\n",
            "4          1.0             1.0         unworn\n",
            "...        ...             ...            ...\n",
            "5053       1.0             1.0         unworn\n",
            "5054       1.0             1.0         unworn\n",
            "5055       1.0             1.0           worn\n",
            "5056       1.0             1.0         unworn\n",
            "5057       1.0             1.0           worn\n",
            "\n",
            "[5058 rows x 3 columns]\n",
            "=============== Decision Tree Results ===============\n",
            "DT Feedrate Parameters: DecisionTreeClassifier(ccp_alpha=0.0, class_weight=None, criterion='entropy',\n",
            "                       max_depth=None, max_features=None, max_leaf_nodes=None,\n",
            "                       min_impurity_decrease=0.0, min_impurity_split=None,\n",
            "                       min_samples_leaf=1, min_samples_split=2,\n",
            "                       min_weight_fraction_leaf=0.0, presort='deprecated',\n",
            "                       random_state=88, splitter='best') \n",
            "DT Feedrate Accuracy: 0.9472123368920522 \n",
            "\n",
            "DT Pressure Parameters: DecisionTreeClassifier(ccp_alpha=0.0, class_weight=None, criterion='entropy',\n",
            "                       max_depth=None, max_features=None, max_leaf_nodes=None,\n",
            "                       min_impurity_decrease=0.0, min_impurity_split=None,\n",
            "                       min_samples_leaf=1, min_samples_split=2,\n",
            "                       min_weight_fraction_leaf=0.0, presort='deprecated',\n",
            "                       random_state=48, splitter='random') \n",
            "DT Pressure Accuracy: 0.6561882166864373 \n",
            "\n",
            "DT Condition Parameters: DecisionTreeClassifier(ccp_alpha=0.06, class_weight=None, criterion='gini',\n",
            "                       max_depth=None, max_features=None, max_leaf_nodes=None,\n",
            "                       min_impurity_decrease=0.0, min_impurity_split=None,\n",
            "                       min_samples_leaf=1, min_samples_split=2,\n",
            "                       min_weight_fraction_leaf=0.0, presort='deprecated',\n",
            "                       random_state=28, splitter='random') \n",
            "DT Condition Accuracy: 0.5 \n",
            "\n",
            "=============== Gaussian Naive-Bayes Restuls ===============\n",
            "GNB Feedrate Parameters: GaussianNB(priors=None, var_smoothing=0.01) \n",
            "GNB Feedrate Accuracy: 0.5794780545670225 \n",
            "\n",
            "GNB Pressure Parameters: GaussianNB(priors=None, var_smoothing=1e-07) \n",
            "GNB Pressure Accuracy: 0.4191379992091736 \n",
            "\n",
            "GNB Condition Parameters: GaussianNB(priors=None, var_smoothing=0.01) \n",
            "GNB Condition Accuracy: 0.5 \n",
            "\n",
            "=============== K-Nearest Neigbor Results ===============\n",
            "KNN Feedrate Parameters: KNeighborsClassifier(algorithm='auto', leaf_size=30, metric='minkowski',\n",
            "                     metric_params=None, n_jobs=None, n_neighbors=4, p=2,\n",
            "                     weights='distance') \n",
            "KNN Feedrate Accuracy: 0.9064847765915381 \n",
            "\n",
            "KNN Pressure Parameters: KNeighborsClassifier(algorithm='ball_tree', leaf_size=30, metric='minkowski',\n",
            "                     metric_params=None, n_jobs=None, n_neighbors=6, p=2,\n",
            "                     weights='uniform') \n",
            "KNN Pressure Accuracy: 0.5846184262554369 \n",
            "\n",
            "KNN Condition Parameters: KNeighborsClassifier(algorithm='ball_tree', leaf_size=30, metric='minkowski',\n",
            "                     metric_params=None, n_jobs=None, n_neighbors=6, p=2,\n",
            "                     weights='uniform') \n",
            "KNN Condition Accuracy: 0.6666666666666666 \n",
            "\n",
            "time: 190 ms (started: 2021-05-20 11:35:58 +00:00)\n"
          ],
          "name": "stdout"
        }
      ]
    },
    {
      "cell_type": "code",
      "metadata": {
        "id": "FHVhH6qvKYa2"
      },
      "source": [
        ""
      ],
      "execution_count": null,
      "outputs": []
    }
  ]
}